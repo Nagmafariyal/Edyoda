{
 "cells": [
  {
   "cell_type": "code",
   "execution_count": 2,
   "id": "130aaad5",
   "metadata": {},
   "outputs": [],
   "source": [
    "def MergeSort(nlist):\n",
    "    print(\"Splitting\",nlist)\n",
    "    if len(nlist)>1:\n",
    "        mid=len(nlist)//2\n",
    "        lefthand=nlist[:mid]\n",
    "        righthand=nlist[mid:]\n",
    "        MergeSort(lefthand)\n",
    "        MergeSort(righthand)\n",
    "        i=j=k=0\n",
    "        \n",
    "        while i<len(lefthand) and j<len(righthand):\n",
    "            if lefthand[i]<righthand[j]:\n",
    "                nlist[k]=lefthand[i]\n",
    "                i=i+1\n",
    "            else:\n",
    "                nlist[k]=righthand[j]\n",
    "                j+=1\n",
    "            k+=1\n",
    "            \n",
    "        while i<len(lefthand):\n",
    "            nlist[k]=lefthand[i]\n",
    "            i=i+1\n",
    "            k=k+1\n",
    "            \n",
    "        while j<len(righthand):\n",
    "            nlist[k]=righthand[j]\n",
    "            j=j+1\n",
    "            k=k+1\n",
    "        \n",
    "    print(\"Merging\",nlist)         "
   ]
  },
  {
   "cell_type": "code",
   "execution_count": 3,
   "id": "1da71c61",
   "metadata": {},
   "outputs": [
    {
     "name": "stdout",
     "output_type": "stream",
     "text": [
      "Splitting [14, 46, 43, 27, 57, 41, 45, 21, 70]\n",
      "Splitting [14, 46, 43, 27]\n",
      "Splitting [14, 46]\n",
      "Splitting [14]\n",
      "Merging [14]\n",
      "Splitting [46]\n",
      "Merging [46]\n",
      "Merging [14, 46]\n",
      "Splitting [43, 27]\n",
      "Splitting [43]\n",
      "Merging [43]\n",
      "Splitting [27]\n",
      "Merging [27]\n",
      "Merging [27, 43]\n",
      "Merging [14, 27, 43, 46]\n",
      "Splitting [57, 41, 45, 21, 70]\n",
      "Splitting [57, 41]\n",
      "Splitting [57]\n",
      "Merging [57]\n",
      "Splitting [41]\n",
      "Merging [41]\n",
      "Merging [41, 57]\n",
      "Splitting [45, 21, 70]\n",
      "Splitting [45]\n",
      "Merging [45]\n",
      "Splitting [21, 70]\n",
      "Splitting [21]\n",
      "Merging [21]\n",
      "Splitting [70]\n",
      "Merging [70]\n",
      "Merging [21, 70]\n",
      "Merging [21, 45, 70]\n",
      "Merging [21, 41, 45, 57, 70]\n",
      "Merging [14, 21, 27, 41, 43, 45, 46, 57, 70]\n",
      "[14, 21, 27, 41, 43, 45, 46, 57, 70]\n"
     ]
    }
   ],
   "source": [
    "nlist=[14,46,43,27,57,41,45,21,70]\n",
    "MergeSort(nlist)\n",
    "print(nlist)"
   ]
  },
  {
   "cell_type": "code",
   "execution_count": null,
   "id": "254a7ec2",
   "metadata": {},
   "outputs": [],
   "source": []
  }
 ],
 "metadata": {
  "kernelspec": {
   "display_name": "Python 3 (ipykernel)",
   "language": "python",
   "name": "python3"
  },
  "language_info": {
   "codemirror_mode": {
    "name": "ipython",
    "version": 3
   },
   "file_extension": ".py",
   "mimetype": "text/x-python",
   "name": "python",
   "nbconvert_exporter": "python",
   "pygments_lexer": "ipython3",
   "version": "3.10.9"
  }
 },
 "nbformat": 4,
 "nbformat_minor": 5
}
