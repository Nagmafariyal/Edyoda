{
 "cells": [
  {
   "cell_type": "code",
   "execution_count": 1,
   "id": "b2d80d9d",
   "metadata": {},
   "outputs": [],
   "source": [
    "#Splitting based on values of dictionary\n",
    "def custom_sort(list):\n",
    "    def key_function(s):\n",
    "        return s.split(':')[1] \n",
    "    \n",
    "    sorted_list=sorted(list,key=key_function)\n",
    "    return sorted_list\n",
    "    "
   ]
  },
  {
   "cell_type": "code",
   "execution_count": 2,
   "id": "93b08e08",
   "metadata": {},
   "outputs": [
    {
     "name": "stdout",
     "output_type": "stream",
     "text": [
      "['banana:1', 'orange:2', 'apple:3', 'grape:4']\n"
     ]
    }
   ],
   "source": [
    "strings_list = [\"apple:3\", \"banana:1\", \"orange:2\", \"grape:4\"]\n",
    "\n",
    "sorted_strings = custom_sort(strings_list)\n",
    "print(sorted_strings)"
   ]
  },
  {
   "cell_type": "code",
   "execution_count": 3,
   "id": "70083200",
   "metadata": {},
   "outputs": [],
   "source": [
    "#Splitting based on the key of dictonary\n",
    "\n",
    "def custom_sort1(list):\n",
    "    def key_function(s):\n",
    "        return s.split(':')[0] \n",
    "    \n",
    "    sorted_list=sorted(list,key=key_function)\n",
    "    return sorted_list"
   ]
  },
  {
   "cell_type": "code",
   "execution_count": 4,
   "id": "bb9e3fa9",
   "metadata": {},
   "outputs": [
    {
     "name": "stdout",
     "output_type": "stream",
     "text": [
      "['apple:3', 'banana:1', 'grape:4', 'orange:2']\n"
     ]
    }
   ],
   "source": [
    "strings_list = [\"apple:3\", \"banana:1\", \"orange:2\", \"grape:4\"]\n",
    "\n",
    "sorted_strings = custom_sort1(strings_list)\n",
    "print(sorted_strings)"
   ]
  },
  {
   "cell_type": "code",
   "execution_count": null,
   "id": "db7b2a7e",
   "metadata": {},
   "outputs": [],
   "source": []
  }
 ],
 "metadata": {
  "kernelspec": {
   "display_name": "Python 3 (ipykernel)",
   "language": "python",
   "name": "python3"
  },
  "language_info": {
   "codemirror_mode": {
    "name": "ipython",
    "version": 3
   },
   "file_extension": ".py",
   "mimetype": "text/x-python",
   "name": "python",
   "nbconvert_exporter": "python",
   "pygments_lexer": "ipython3",
   "version": "3.10.9"
  }
 },
 "nbformat": 4,
 "nbformat_minor": 5
}
