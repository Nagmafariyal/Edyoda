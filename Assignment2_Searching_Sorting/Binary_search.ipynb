{
 "cells": [
  {
   "cell_type": "code",
   "execution_count": 2,
   "id": "18699d81",
   "metadata": {},
   "outputs": [],
   "source": [
    "def BinarySearch(arr,low,high,x):\n",
    "    if high>=low:\n",
    "        mid=(high+low)//2\n",
    "        if arr[mid]==x:\n",
    "            return mid\n",
    "        elif arr[mid]>x:\n",
    "            return BinarySearch(arr,low,mid-1,x)\n",
    "        else:\n",
    "            return BinarySearch(arr,mid+1,high,x)\n",
    "    else:\n",
    "        return -1"
   ]
  },
  {
   "cell_type": "code",
   "execution_count": 3,
   "id": "169eb3c3",
   "metadata": {},
   "outputs": [
    {
     "name": "stdout",
     "output_type": "stream",
     "text": [
      "The element found at the index position 3\n"
     ]
    }
   ],
   "source": [
    "#Driver Code\n",
    "arr=[1,2,3,4,5,6]\n",
    "x=4\n",
    "c=BinarySearch(arr,0,len(arr),x)\n",
    "if c!=-1:\n",
    "    print(\"The element found at the index position\",c)\n",
    "else:\n",
    "    print(\"The element is not present\")\n"
   ]
  },
  {
   "cell_type": "code",
   "execution_count": 4,
   "id": "ba451733",
   "metadata": {},
   "outputs": [
    {
     "name": "stdout",
     "output_type": "stream",
     "text": [
      "The element is not present\n"
     ]
    }
   ],
   "source": [
    "#Driver Code\n",
    "arr=[1,2,3,4,5,6]\n",
    "x=0\n",
    "c=BinarySearch(arr,0,len(arr),x)\n",
    "if c!=-1:\n",
    "    print(\"The element found at the index position\",c)\n",
    "else:\n",
    "    print(\"The element is not present\")\n"
   ]
  },
  {
   "cell_type": "code",
   "execution_count": null,
   "id": "8180fed5",
   "metadata": {},
   "outputs": [],
   "source": []
  }
 ],
 "metadata": {
  "kernelspec": {
   "display_name": "Python 3 (ipykernel)",
   "language": "python",
   "name": "python3"
  },
  "language_info": {
   "codemirror_mode": {
    "name": "ipython",
    "version": 3
   },
   "file_extension": ".py",
   "mimetype": "text/x-python",
   "name": "python",
   "nbconvert_exporter": "python",
   "pygments_lexer": "ipython3",
   "version": "3.10.9"
  }
 },
 "nbformat": 4,
 "nbformat_minor": 5
}
