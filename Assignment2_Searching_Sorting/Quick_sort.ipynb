{
 "cells": [
  {
   "cell_type": "code",
   "execution_count": 6,
   "id": "0a4d8cb9",
   "metadata": {},
   "outputs": [],
   "source": [
    "def QuickSort(data_list):\n",
    "     QuickSortHlp(data_list,0,len(data_list)-1)\n",
    "    \n",
    "def QuickSortHlp(data_list,first,last):\n",
    "    if first<last:\n",
    "        splitpoint=partition(data_list,first,last)\n",
    "        QuickSortHlp(data_list,first,splitpoint-1)\n",
    "        QuickSortHlp(data_list,splitpoint+1,last) \n",
    "    \n",
    "def partition(data_list,first,last):\n",
    "    pivotvalue=data_list[first]\n",
    "    \n",
    "    left=first+1\n",
    "    right=last\n",
    "    \n",
    "    done=False\n",
    "    while not done:\n",
    "        while left<=right and data_list[left]<=pivotvalue:\n",
    "            left=left+1\n",
    "        while data_list[right]>=pivotvalue and right>=left:\n",
    "            right=right-1\n",
    "        if right<left:\n",
    "            done =True\n",
    "        else:\n",
    "            temp=data_list[left]\n",
    "            data_list[left]=data_list[right]\n",
    "            data_list[right]=temp\n",
    "    temp=data_list[first]\n",
    "    data_list[first]=data_list[right]\n",
    "    data_list[right]=temp\n",
    "    \n",
    "    return right\n",
    "\n",
    "        "
   ]
  },
  {
   "cell_type": "code",
   "execution_count": 7,
   "id": "b55a7630",
   "metadata": {},
   "outputs": [
    {
     "name": "stdout",
     "output_type": "stream",
     "text": [
      "[17, 20, 26, 31, 44, 54, 55, 77, 93]\n"
     ]
    }
   ],
   "source": [
    "data_list = [54,26,93,17,77,31,44,55,20]\n",
    "QuickSort(data_list)\n",
    "print(data_list)"
   ]
  },
  {
   "cell_type": "code",
   "execution_count": null,
   "id": "6ff6a3af",
   "metadata": {},
   "outputs": [],
   "source": []
  }
 ],
 "metadata": {
  "kernelspec": {
   "display_name": "Python 3 (ipykernel)",
   "language": "python",
   "name": "python3"
  },
  "language_info": {
   "codemirror_mode": {
    "name": "ipython",
    "version": 3
   },
   "file_extension": ".py",
   "mimetype": "text/x-python",
   "name": "python",
   "nbconvert_exporter": "python",
   "pygments_lexer": "ipython3",
   "version": "3.10.9"
  }
 },
 "nbformat": 4,
 "nbformat_minor": 5
}
