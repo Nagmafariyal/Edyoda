{
 "cells": [
  {
   "cell_type": "code",
   "execution_count": 7,
   "id": "55f6a977",
   "metadata": {},
   "outputs": [],
   "source": [
    "class Node:\n",
    "    def __init__(self,data):\n",
    "        self.data=data\n",
    "        self.left=None\n",
    "        self.right=None\n",
    "    def traversepreorder(self):\n",
    "        print(self.data,end='')\n",
    "        if self.left:\n",
    "            self.left.traversepreorder()\n",
    "        if self.right:\n",
    "            self.right.traversepreorder()\n",
    "            \n",
    "            \n",
    "    def traverseinorder(self):\n",
    "        \n",
    "        if self.left:\n",
    "            self.left.traverseinorder()\n",
    "        print(self.data,end='')\n",
    "        if self.right:\n",
    "            self.right.traverseinorder()  \n",
    "    \n",
    "    def traversepostorder(self):\n",
    "        \n",
    "        if self.left:\n",
    "            self.left.traversepostorder()\n",
    "        if self.right:\n",
    "            self.right.traversepostorder()\n",
    "        print(self.data,end='')\n",
    "    "
   ]
  },
  {
   "cell_type": "code",
   "execution_count": 8,
   "id": "2dce28c8",
   "metadata": {},
   "outputs": [
    {
     "name": "stdout",
     "output_type": "stream",
     "text": [
      "Pre order Traversal: 1243\n",
      "In order Traversal: 4213\n",
      "Post order Traversal: 4231"
     ]
    }
   ],
   "source": [
    "#Driver code\n",
    "root = Node(1)\n",
    "\n",
    "root.left = Node(2)\n",
    "root.right = Node(3)\n",
    "\n",
    "root.left.left = Node(4)\n",
    "\n",
    "print(\"Pre order Traversal: \", end=\"\")\n",
    "root.traversepreorder()\n",
    "print(\"\\nIn order Traversal: \", end=\"\")\n",
    "root.traverseinorder()\n",
    "print(\"\\nPost order Traversal: \", end=\"\")\n",
    "root.traversepostorder()"
   ]
  },
  {
   "cell_type": "code",
   "execution_count": null,
   "id": "470fd327",
   "metadata": {},
   "outputs": [],
   "source": []
  }
 ],
 "metadata": {
  "kernelspec": {
   "display_name": "Python 3 (ipykernel)",
   "language": "python",
   "name": "python3"
  },
  "language_info": {
   "codemirror_mode": {
    "name": "ipython",
    "version": 3
   },
   "file_extension": ".py",
   "mimetype": "text/x-python",
   "name": "python",
   "nbconvert_exporter": "python",
   "pygments_lexer": "ipython3",
   "version": "3.10.9"
  }
 },
 "nbformat": 4,
 "nbformat_minor": 5
}
