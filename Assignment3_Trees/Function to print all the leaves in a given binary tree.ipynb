{
 "cells": [
  {
   "cell_type": "code",
   "execution_count": 5,
   "id": "4c6b006f",
   "metadata": {},
   "outputs": [],
   "source": [
    "class Node:\n",
    "    def __init__(self,data):\n",
    "        self.data=data\n",
    "        self.left=None\n",
    "        self.right=None\n",
    "def printLeafNodes(root: Node)-> None:\n",
    "    if (not root):\n",
    "          return \n",
    "    if not root.left and not root.right:\n",
    "        print(root.data,end=' ')\n",
    "        return\n",
    "    if root.left:\n",
    "        printLeafNodes(root.left)\n",
    "            \n",
    "    if root.right:\n",
    "        printLeafNodes(root.right)  \n",
    "            \n",
    "            \n",
    "            \n",
    "\n",
    "    "
   ]
  },
  {
   "cell_type": "code",
   "execution_count": 6,
   "id": "2e77082e",
   "metadata": {},
   "outputs": [
    {
     "name": "stdout",
     "output_type": "stream",
     "text": [
      "4 6 7 9 10 "
     ]
    }
   ],
   "source": [
    "if __name__ == \"__main__\":\n",
    " \n",
    "    # Let us create binary tree shown in\n",
    "    # above diagram\n",
    "    root = Node(1)\n",
    "    root.left = Node(2)\n",
    "    root.right = Node(3)\n",
    "    root.left.left = Node(4)\n",
    "    root.right.left = Node(5)\n",
    "    root.right.right = Node(8)\n",
    "    root.right.left.left = Node(6)\n",
    "    root.right.left.right = Node(7)\n",
    "    root.right.right.left = Node(9)\n",
    "    root.right.right.right = Node(10)\n",
    " \n",
    "    # print leaf nodes of the given tree\n",
    "    printLeafNodes(root)\n",
    " "
   ]
  },
  {
   "cell_type": "code",
   "execution_count": null,
   "id": "6c078f75",
   "metadata": {},
   "outputs": [],
   "source": []
  }
 ],
 "metadata": {
  "kernelspec": {
   "display_name": "Python 3 (ipykernel)",
   "language": "python",
   "name": "python3"
  },
  "language_info": {
   "codemirror_mode": {
    "name": "ipython",
    "version": 3
   },
   "file_extension": ".py",
   "mimetype": "text/x-python",
   "name": "python",
   "nbconvert_exporter": "python",
   "pygments_lexer": "ipython3",
   "version": "3.10.9"
  }
 },
 "nbformat": 4,
 "nbformat_minor": 5
}
