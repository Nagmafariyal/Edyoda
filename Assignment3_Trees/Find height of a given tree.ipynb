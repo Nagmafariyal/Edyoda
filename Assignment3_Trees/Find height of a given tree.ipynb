{
 "cells": [
  {
   "cell_type": "code",
   "execution_count": 1,
   "id": "c674c3f1",
   "metadata": {},
   "outputs": [],
   "source": [
    "class Node:\n",
    "    def __init__(self,data):\n",
    "        self.left=None\n",
    "        self.right=None\n",
    "        self.val=data\n",
    "        \n",
    "def maxDepth(node):\n",
    "    if node==None:\n",
    "        return 0\n",
    "        \n",
    "    else:\n",
    "        ldepth=maxDepth(node.left)\n",
    "        rdepth=maxDepth(node.right)\n",
    "        \n",
    "        if (ldepth>rdepth):\n",
    "            return ldepth+1\n",
    "        else:\n",
    "            return rdepth+1\n",
    "        "
   ]
  },
  {
   "cell_type": "code",
   "execution_count": 2,
   "id": "c96bd2ce",
   "metadata": {},
   "outputs": [
    {
     "name": "stdout",
     "output_type": "stream",
     "text": [
      "The Height of tree is 3\n"
     ]
    }
   ],
   "source": [
    "#Driver Code\n",
    "root=Node(10)\n",
    "root.left=Node(2)\n",
    "root.right = Node(3)\n",
    "root.left.left = Node(4)\n",
    "root.left.right = Node(5)\n",
    "print(\"The Height of tree is %d\" % (maxDepth(root)))"
   ]
  },
  {
   "cell_type": "code",
   "execution_count": null,
   "id": "8276b68f",
   "metadata": {},
   "outputs": [],
   "source": []
  }
 ],
 "metadata": {
  "kernelspec": {
   "display_name": "Python 3 (ipykernel)",
   "language": "python",
   "name": "python3"
  },
  "language_info": {
   "codemirror_mode": {
    "name": "ipython",
    "version": 3
   },
   "file_extension": ".py",
   "mimetype": "text/x-python",
   "name": "python",
   "nbconvert_exporter": "python",
   "pygments_lexer": "ipython3",
   "version": "3.10.9"
  }
 },
 "nbformat": 4,
 "nbformat_minor": 5
}
