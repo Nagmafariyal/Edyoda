{
 "cells": [
  {
   "cell_type": "markdown",
   "id": "a168f5ae",
   "metadata": {},
   "source": [
    "### 2.Reverse a linked list in groups of given size"
   ]
  },
  {
   "cell_type": "code",
   "execution_count": 1,
   "id": "76712a6c",
   "metadata": {},
   "outputs": [],
   "source": [
    "class ListNode:\n",
    "    def __init__(self, val=0, next=None):\n",
    "        self.val = val\n",
    "        self.next = next\n",
    "\n",
    "def reverse_group(head, k):\n",
    "    current = head\n",
    "    prev = None\n",
    "    next_node = None\n",
    "    count = 0\n",
    "\n",
    "    while current and count < k:\n",
    "        next_node = current.next\n",
    "        current.next = prev\n",
    "        prev = current\n",
    "        current = next_node\n",
    "        count += 1\n",
    "\n",
    "    if next_node:\n",
    "        head.next = reverse_group(next_node, k)\n",
    "\n",
    "    return prev  # New head of the reversed group\n",
    "\n",
    "# Helper function to convert a list to a linked list\n",
    "def list_to_linked_list(lst):\n",
    "    dummy = ListNode(0)\n",
    "    current = dummy\n",
    "    for val in lst:\n",
    "        current.next = ListNode(val)\n",
    "        current = current.next\n",
    "    return dummy.next\n",
    "\n",
    "# Helper function to convert a linked list to a list\n",
    "def linked_list_to_list(head):\n",
    "    lst = []\n",
    "    current = head\n",
    "    while current:\n",
    "        lst.append(current.val)\n",
    "        current = current.next\n",
    "    return lst\n",
    "\n",
    "\n"
   ]
  },
  {
   "cell_type": "code",
   "execution_count": 2,
   "id": "15705fe4",
   "metadata": {},
   "outputs": [
    {
     "name": "stdout",
     "output_type": "stream",
     "text": [
      "[3, 2, 1, 6, 5, 4, 7, 8]\n"
     ]
    }
   ],
   "source": [
    "input_list = [1, 2, 3, 4, 5, 6, 8, 7]\n",
    "k = 3\n",
    "input_head = list_to_linked_list(input_list)\n",
    "output_head = reverse_group(input_head, k)\n",
    "output_list = linked_list_to_list(output_head)\n",
    "print(output_list)  # Output: [3, 2, 1, 6, 5, 4, 7, 8]\n"
   ]
  },
  {
   "cell_type": "code",
   "execution_count": null,
   "id": "5d6b38ac",
   "metadata": {},
   "outputs": [],
   "source": []
  }
 ],
 "metadata": {
  "kernelspec": {
   "display_name": "Python 3 (ipykernel)",
   "language": "python",
   "name": "python3"
  },
  "language_info": {
   "codemirror_mode": {
    "name": "ipython",
    "version": 3
   },
   "file_extension": ".py",
   "mimetype": "text/x-python",
   "name": "python",
   "nbconvert_exporter": "python",
   "pygments_lexer": "ipython3",
   "version": "3.10.9"
  }
 },
 "nbformat": 4,
 "nbformat_minor": 5
}
