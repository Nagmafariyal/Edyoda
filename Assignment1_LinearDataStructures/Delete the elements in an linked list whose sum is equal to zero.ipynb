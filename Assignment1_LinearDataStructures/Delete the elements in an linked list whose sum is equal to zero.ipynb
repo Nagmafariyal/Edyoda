{
 "cells": [
  {
   "cell_type": "markdown",
   "id": "d7e74724",
   "metadata": {},
   "source": [
    "### 1. Delete the elements in an linked list whose sum is equal to zero"
   ]
  },
  {
   "cell_type": "code",
   "execution_count": 1,
   "id": "9cd44a38",
   "metadata": {},
   "outputs": [],
   "source": [
    "class ListNode:\n",
    "    def __init__(self, val=0, next=None):\n",
    "        self.val = val\n",
    "        self.next = next\n",
    "\n",
    "def delete_zero_sum_sublists(head):\n",
    "    dummy = ListNode(0)\n",
    "    dummy.next = head\n",
    "    current = dummy\n",
    "    cumulative_sum = 0\n",
    "    sum_map = {}\n",
    "\n",
    "    while current:\n",
    "        cumulative_sum += current.val\n",
    "        if cumulative_sum in sum_map:\n",
    "            prev = sum_map[cumulative_sum].next\n",
    "            temp_sum = cumulative_sum + prev.val\n",
    "            while prev != current:\n",
    "                del sum_map[temp_sum]\n",
    "                prev = prev.next\n",
    "                temp_sum += prev.val\n",
    "            sum_map[cumulative_sum].next = current.next\n",
    "        else:\n",
    "            sum_map[cumulative_sum] = current\n",
    "        current = current.next\n",
    "\n",
    "    return dummy.next\n",
    "\n",
    "# Helper function to convert a list to a linked list\n",
    "def list_to_linked_list(lst):\n",
    "    dummy = ListNode(0)\n",
    "    current = dummy\n",
    "    for val in lst:\n",
    "        current.next = ListNode(val)\n",
    "        current = current.next\n",
    "    return dummy.next\n",
    "\n",
    "# Helper function to convert a linked list to a list\n",
    "def linked_list_to_list(head):\n",
    "    lst = []\n",
    "    current = head\n",
    "    while current:\n",
    "        lst.append(current.val)\n",
    "        current = current.next\n",
    "    return lst\n",
    "\n"
   ]
  },
  {
   "cell_type": "code",
   "execution_count": 2,
   "id": "5f7148f3",
   "metadata": {},
   "outputs": [
    {
     "name": "stdout",
     "output_type": "stream",
     "text": [
      "[3, 1]\n"
     ]
    }
   ],
   "source": [
    "# Example usage\n",
    "input_list = [1, 2, -3, 3, 1]\n",
    "input_head = list_to_linked_list(input_list)\n",
    "output_head = delete_zero_sum_sublists(input_head)\n",
    "output_list = linked_list_to_list(output_head)\n",
    "print(output_list)  # Output: [3, 1]"
   ]
  },
  {
   "cell_type": "markdown",
   "id": "91631f9e",
   "metadata": {},
   "source": []
  },
  {
   "cell_type": "code",
   "execution_count": null,
   "id": "f83a1871",
   "metadata": {},
   "outputs": [],
   "source": []
  }
 ],
 "metadata": {
  "kernelspec": {
   "display_name": "Python 3 (ipykernel)",
   "language": "python",
   "name": "python3"
  },
  "language_info": {
   "codemirror_mode": {
    "name": "ipython",
    "version": 3
   },
   "file_extension": ".py",
   "mimetype": "text/x-python",
   "name": "python",
   "nbconvert_exporter": "python",
   "pygments_lexer": "ipython3",
   "version": "3.10.9"
  }
 },
 "nbformat": 4,
 "nbformat_minor": 5
}
