{
 "cells": [
  {
   "cell_type": "markdown",
   "id": "d52efede",
   "metadata": {},
   "source": [
    "### 3.In an array, Count Pairs with given sum"
   ]
  },
  {
   "cell_type": "code",
   "execution_count": 1,
   "id": "5aa1f6e9",
   "metadata": {},
   "outputs": [],
   "source": [
    "def count_pairs_with_sum(arr, required_sum):\n",
    "    frequency_map = {}  # To store the frequency of elements\n",
    "    pair_count = 0\n",
    "\n",
    "    for num in arr:\n",
    "        complement = required_sum - num\n",
    "\n",
    "        if complement in frequency_map:\n",
    "            pair_count += frequency_map[complement]\n",
    "\n",
    "        # Update the frequency map\n",
    "        if num in frequency_map:\n",
    "            frequency_map[num] += 1\n",
    "        else:\n",
    "            frequency_map[num] = 1\n",
    "\n",
    "    return pair_count\n",
    "\n",
    "\n"
   ]
  },
  {
   "cell_type": "code",
   "execution_count": 2,
   "id": "d44f87ec",
   "metadata": {},
   "outputs": [
    {
     "name": "stdout",
     "output_type": "stream",
     "text": [
      "3\n"
     ]
    }
   ],
   "source": [
    "input_array = [1, 5, 7, -1, 5]\n",
    "target_sum = 6\n",
    "result = count_pairs_with_sum(input_array, target_sum)\n",
    "print(result)  # Output: 3 (Pairs: (1, 5), (7, -1), (-1, 7))\n"
   ]
  },
  {
   "cell_type": "code",
   "execution_count": null,
   "id": "00c5106a",
   "metadata": {},
   "outputs": [],
   "source": []
  }
 ],
 "metadata": {
  "kernelspec": {
   "display_name": "Python 3 (ipykernel)",
   "language": "python",
   "name": "python3"
  },
  "language_info": {
   "codemirror_mode": {
    "name": "ipython",
    "version": 3
   },
   "file_extension": ".py",
   "mimetype": "text/x-python",
   "name": "python",
   "nbconvert_exporter": "python",
   "pygments_lexer": "ipython3",
   "version": "3.10.9"
  }
 },
 "nbformat": 4,
 "nbformat_minor": 5
}
