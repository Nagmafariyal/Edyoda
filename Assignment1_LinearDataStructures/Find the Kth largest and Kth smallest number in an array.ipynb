{
 "cells": [
  {
   "cell_type": "markdown",
   "id": "8f9d14d0",
   "metadata": {},
   "source": [
    "### 6.Find the Kth largest and Kth smallest number in an array"
   ]
  },
  {
   "cell_type": "code",
   "execution_count": 1,
   "id": "8ebbc1d0",
   "metadata": {},
   "outputs": [],
   "source": [
    "import heapq\n",
    "\n",
    "def find_kth_smallest_largest_heap(arr, k):\n",
    "    min_heap = arr[:k]\n",
    "    max_heap = [-num for num in arr[:k]]\n",
    "    heapq.heapify(min_heap)\n",
    "    heapq.heapify(max_heap)\n",
    "\n",
    "    for num in arr[k:]:\n",
    "        if num < min_heap[0]:\n",
    "            heapq.heappop(min_heap)\n",
    "            heapq.heappush(min_heap, num)\n",
    "\n",
    "        if -num > max_heap[0]:\n",
    "            heapq.heappop(max_heap)\n",
    "            heapq.heappush(max_heap, -num)\n",
    "\n",
    "    kth_smallest = min_heap[0]\n",
    "    kth_largest = -max_heap[0]\n",
    "    return kth_smallest, kth_largest\n",
    "\n",
    "\n"
   ]
  },
  {
   "cell_type": "code",
   "execution_count": 2,
   "id": "d4847b95",
   "metadata": {},
   "outputs": [
    {
     "name": "stdout",
     "output_type": "stream",
     "text": [
      "Kth Smallest: 1, Kth Largest: 2\n"
     ]
    }
   ],
   "source": [
    "input_array = [3, 1, 4, 1, 5, 9, 2, 6]\n",
    "k = 3\n",
    "kth_smallest, kth_largest = find_kth_smallest_largest_heap(input_array, k)\n",
    "print(f\"Kth Smallest: {kth_smallest}, Kth Largest: {kth_largest}\")\n"
   ]
  },
  {
   "cell_type": "code",
   "execution_count": null,
   "id": "23c03093",
   "metadata": {},
   "outputs": [],
   "source": []
  },
  {
   "cell_type": "code",
   "execution_count": null,
   "id": "ac2fa6ce",
   "metadata": {},
   "outputs": [],
   "source": []
  }
 ],
 "metadata": {
  "kernelspec": {
   "display_name": "Python 3 (ipykernel)",
   "language": "python",
   "name": "python3"
  },
  "language_info": {
   "codemirror_mode": {
    "name": "ipython",
    "version": 3
   },
   "file_extension": ".py",
   "mimetype": "text/x-python",
   "name": "python",
   "nbconvert_exporter": "python",
   "pygments_lexer": "ipython3",
   "version": "3.10.9"
  }
 },
 "nbformat": 4,
 "nbformat_minor": 5
}
