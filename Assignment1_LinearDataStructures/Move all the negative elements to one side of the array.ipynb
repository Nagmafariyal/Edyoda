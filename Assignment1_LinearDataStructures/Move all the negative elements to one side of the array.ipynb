{
 "cells": [
  {
   "cell_type": "markdown",
   "id": "a5daff36",
   "metadata": {},
   "source": [
    "### 7.Move all the negative elements to one side of the array"
   ]
  },
  {
   "cell_type": "code",
   "execution_count": 1,
   "id": "5da8fa62",
   "metadata": {},
   "outputs": [],
   "source": [
    "def move_negatives_to_one_side(arr):\n",
    "    left = 0\n",
    "    right = len(arr) - 1\n",
    "\n",
    "    while left <= right:\n",
    "        if arr[left] < 0 and arr[right] < 0:\n",
    "            left += 1\n",
    "        elif arr[left] >= 0 and arr[right] < 0:\n",
    "            arr[left], arr[right] = arr[right], arr[left]\n",
    "            left += 1\n",
    "            right -= 1\n",
    "        elif arr[left] >= 0 and arr[right] >= 0:\n",
    "            right -= 1\n",
    "        else:\n",
    "            left += 1\n",
    "            right -= 1\n",
    "\n",
    "    return arr\n",
    "\n",
    "\n",
    "\n"
   ]
  },
  {
   "cell_type": "code",
   "execution_count": 2,
   "id": "26c15263",
   "metadata": {},
   "outputs": [
    {
     "name": "stdout",
     "output_type": "stream",
     "text": [
      "[-3, -5, -1, 8, 0, 2]\n"
     ]
    }
   ],
   "source": [
    "input_array = [2, -5, 8, -1, 0, -3]\n",
    "result = move_negatives_to_one_side(input_array)\n",
    "print(result)  # Output: [-5, -1, -3, 2, 0, 8]"
   ]
  },
  {
   "cell_type": "code",
   "execution_count": null,
   "id": "b7703367",
   "metadata": {},
   "outputs": [],
   "source": []
  }
 ],
 "metadata": {
  "kernelspec": {
   "display_name": "Python 3 (ipykernel)",
   "language": "python",
   "name": "python3"
  },
  "language_info": {
   "codemirror_mode": {
    "name": "ipython",
    "version": 3
   },
   "file_extension": ".py",
   "mimetype": "text/x-python",
   "name": "python",
   "nbconvert_exporter": "python",
   "pygments_lexer": "ipython3",
   "version": "3.10.9"
  }
 },
 "nbformat": 4,
 "nbformat_minor": 5
}
