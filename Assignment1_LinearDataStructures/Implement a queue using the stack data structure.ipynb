{
 "cells": [
  {
   "cell_type": "markdown",
   "id": "bd633bc2",
   "metadata": {},
   "source": [
    "### 10.Implement a queue using the stack data structure"
   ]
  },
  {
   "cell_type": "code",
   "execution_count": 1,
   "id": "b1230f86",
   "metadata": {},
   "outputs": [],
   "source": [
    "class QueueUsingStacks:\n",
    "    def __init__(self):\n",
    "        self.stack_enqueue = []\n",
    "        self.stack_dequeue = []\n",
    "\n",
    "    def enqueue(self, val):\n",
    "        self.stack_enqueue.append(val)\n",
    "\n",
    "    def dequeue(self):\n",
    "        if not self.stack_dequeue:\n",
    "            while self.stack_enqueue:\n",
    "                self.stack_dequeue.append(self.stack_enqueue.pop())\n",
    "        if self.stack_dequeue:\n",
    "            return self.stack_dequeue.pop()\n",
    "        else:\n",
    "            raise IndexError(\"Queue is empty\")\n",
    "\n",
    "    def is_empty(self):\n",
    "        return not self.stack_enqueue and not self.stack_dequeue\n",
    "\n",
    "    def size(self):\n",
    "        return len(self.stack_enqueue) + len(self.stack_dequeue)\n",
    "\n"
   ]
  },
  {
   "cell_type": "code",
   "execution_count": 2,
   "id": "7a0d1411",
   "metadata": {},
   "outputs": [
    {
     "name": "stdout",
     "output_type": "stream",
     "text": [
      "1\n",
      "2\n",
      "3\n",
      "True\n"
     ]
    }
   ],
   "source": [
    "queue = QueueUsingStacks()\n",
    "queue.enqueue(1)\n",
    "queue.enqueue(2)\n",
    "queue.enqueue(3)\n",
    "\n",
    "print(queue.dequeue())  # Output: 1\n",
    "print(queue.dequeue())  # Output: 2\n",
    "print(queue.dequeue())  # Output: 3\n",
    "print(queue.is_empty())  # Output: True\n"
   ]
  },
  {
   "cell_type": "code",
   "execution_count": null,
   "id": "fcb766a8",
   "metadata": {},
   "outputs": [],
   "source": []
  }
 ],
 "metadata": {
  "kernelspec": {
   "display_name": "Python 3 (ipykernel)",
   "language": "python",
   "name": "python3"
  },
  "language_info": {
   "codemirror_mode": {
    "name": "ipython",
    "version": 3
   },
   "file_extension": ".py",
   "mimetype": "text/x-python",
   "name": "python",
   "nbconvert_exporter": "python",
   "pygments_lexer": "ipython3",
   "version": "3.10.9"
  }
 },
 "nbformat": 4,
 "nbformat_minor": 5
}
